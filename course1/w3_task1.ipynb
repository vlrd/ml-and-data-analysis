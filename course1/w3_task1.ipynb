{
 "cells": [
  {
   "cell_type": "code",
   "execution_count": 1,
   "metadata": {},
   "outputs": [],
   "source": [
    "import math\n",
    "import numpy as np\n",
    "from scipy import optimize\n",
    "%matplotlib inline\n",
    "from matplotlib import pylab as plt\n",
    "\n",
    "\n",
    "def f(x):\n",
    "    return math.sin(x / 5) * math.exp(x / 10) + 5 * math.exp(-x / 2)\n"
   ]
  },
  {
   "cell_type": "code",
   "execution_count": 2,
   "metadata": {},
   "outputs": [
    {
     "data": {
      "image/png": "[encoded data removed]",
      "text/plain": [
       "<Figure size 432x288 with 1 Axes>"
      ]
     },
     "metadata": {
      "needs_background": "light"
     },
     "output_type": "display_data"
    }
   ],
   "source": [
    "x= np.array(range(1, 31))\n",
    "f_x = [f(x) for x in range(1, 31)]\n",
    "plt.plot(x, f_x)\n",
    "plt.show()"
   ]
  },
  {
   "cell_type": "code",
   "execution_count": 3,
   "metadata": {},
   "outputs": [
    {
     "data": {
      "text/plain": [
       "(      fun: 1.7452682903449388\n",
       "  hess_inv: array([[5.98752437]])\n",
       "       jac: array([-2.07126141e-06])\n",
       "   message: 'Optimization terminated successfully.'\n",
       "      nfev: 21\n",
       "       nit: 6\n",
       "      njev: 7\n",
       "    status: 0\n",
       "   success: True\n",
       "         x: array([4.13627618]),\n",
       "       fun: -11.898894665981285\n",
       "  hess_inv: array([[1.67932484]])\n",
       "       jac: array([2.38418579e-07])\n",
       "   message: 'Optimization terminated successfully.'\n",
       "      nfev: 21\n",
       "       nit: 6\n",
       "      njev: 7\n",
       "    status: 0\n",
       "   success: True\n",
       "         x: array([25.88019339]))"
      ]
     },
     "execution_count": 3,
     "metadata": {},
     "output_type": "execute_result"
    }
   ],
   "source": [
    "res1 = optimize.minimize(f, 2, method='BFGS')\n",
    "res2 = optimize.minimize(f, 30, method='BFGS')\n",
    "res1, res2"
   ]
  },
  {
   "cell_type": "code",
   "execution_count": 4,
   "metadata": {},
   "outputs": [
    {
     "data": {
      "text/plain": [
       "     fun: -11.898894665979872\n",
       "     jac: array([1.24344979e-06])\n",
       " message: 'Optimization terminated successfully.'\n",
       "    nfev: 126\n",
       "     nit: 7\n",
       " success: True\n",
       "       x: array([25.88019524])"
      ]
     },
     "execution_count": 4,
     "metadata": {},
     "output_type": "execute_result"
    }
   ],
   "source": [
    "res = optimize.differential_evolution(f, [(1, 31)])\n",
    "res"
   ]
  },
  {
   "cell_type": "code",
   "execution_count": 5,
   "metadata": {},
   "outputs": [
    {
     "data": {
      "image/png": "[encoded data removed]",
      "text/plain": [
       "<Figure size 432x288 with 1 Axes>"
      ]
     },
     "metadata": {
      "needs_background": "light"
     },
     "output_type": "display_data"
    }
   ],
   "source": [
    "def h(x):\n",
    "    return int(f(x))\n",
    "\n",
    "h_x = [h(x) for x in range(1,31) ]\n",
    "plt.plot(x, h_x)\n",
    "plt.show()"
   ]
  },
  {
   "cell_type": "code",
   "execution_count": 6,
   "metadata": {},
   "outputs": [
    {
     "name": "stdout",
     "output_type": "stream",
     "text": [
      "30\n"
     ]
    }
   ],
   "source": [
    "res3 = optimize.minimize(h, 30, method='BFGS')\n",
    "print(int(res3.x))"
   ]
  },
  {
   "cell_type": "code",
   "execution_count": 7,
   "metadata": {},
   "outputs": [
    {
     "data": {
      "text/plain": [
       "array([26.0130615])"
      ]
     },
     "execution_count": 7,
     "metadata": {},
     "output_type": "execute_result"
    }
   ],
   "source": [
    "res4 = optimize.differential_evolution(h, [(1, 31)])\n",
    "res4.x"
   ]
  }
 ],
 "metadata": {
  "kernelspec": {
   "display_name": "Python 3",
   "language": "python",
   "name": "python3"
  },
  "language_info": {
   "codemirror_mode": {
    "name": "ipython",
    "version": 3
   },
   "file_extension": ".py",
   "mimetype": "text/x-python",
   "name": "python",
   "nbconvert_exporter": "python",
   "pygments_lexer": "ipython3",
   "version": "3.8.2"
  }
 },
 "nbformat": 4,
 "nbformat_minor": 4
}
